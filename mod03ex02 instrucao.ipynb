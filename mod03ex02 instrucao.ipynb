{
 "cells": [
  {
   "cell_type": "code",
   "execution_count": 1,
   "metadata": {
    "id": "fFhFteHV695k"
   },
   "outputs": [],
   "source": [
    "import numpy as np"
   ]
  },
  {
   "cell_type": "markdown",
   "metadata": {
    "id": "YLWEzg3N695m"
   },
   "source": [
    "### 1) Alturas  \n",
    "i. No trecho de código abaixo, crie um ndarray chamado ```altura_em_centimetros``` transformando a lista ```lista_de_alturas``` em um ndarray do numpy com a função ```np.array()```  \n",
    "ii. Crie um outro objeto ```altura_em_metros```, com os valores de ```altura_em_centimetros``` convertidos para metros."
   ]
  },
  {
   "cell_type": "markdown",
   "metadata": {},
   "source": [
    "Alturas i"
   ]
  },
  {
   "cell_type": "code",
   "execution_count": 107,
   "metadata": {
    "id": "tx6DbJk7695o"
   },
   "outputs": [
    {
     "data": {
      "text/plain": [
       "[170, 175, 180, 185]"
      ]
     },
     "execution_count": 107,
     "metadata": {},
     "output_type": "execute_result"
    }
   ],
   "source": [
    "# i) Lista de alturas em centímetros, variando de 170 a 185, com um incremento de 5 cm\n",
    "lista_de_centimetros = list(range(170, 190, 5))\n",
    "lista_de_centimetros"
   ]
  },
  {
   "cell_type": "code",
   "execution_count": 109,
   "metadata": {
    "id": "-tXC4lyT695o"
   },
   "outputs": [
    {
     "data": {
      "text/plain": [
       "array([170, 175, 180, 185])"
      ]
     },
     "execution_count": 109,
     "metadata": {},
     "output_type": "execute_result"
    }
   ],
   "source": [
    "# Converte a lista de alturas em centímetros para um array numpy\n",
    "altura_em_centimetros = np.array(lista_de_centimetros)\n",
    "altura_em_centimetros"
   ]
  },
  {
   "cell_type": "code",
   "execution_count": null,
   "metadata": {},
   "outputs": [],
   "source": [
    "Alturas ii"
   ]
  },
  {
   "cell_type": "code",
   "execution_count": 112,
   "metadata": {
    "id": "zFDQt9_K695p"
   },
   "outputs": [
    {
     "data": {
      "text/plain": [
       "array([1.7 , 1.75, 1.8 , 1.85])"
      ]
     },
     "execution_count": 112,
     "metadata": {},
     "output_type": "execute_result"
    }
   ],
   "source": [
    "# ii) Converte as alturas de centímetros para metros, dividindo por 100\n",
    "altura_em_metros = altura_em_centimetros / 100\n",
    "altura_em_metros"
   ]
  },
  {
   "cell_type": "markdown",
   "metadata": {
    "id": "hlsDzubv695p"
   },
   "source": [
    "### 2) IMC  \n",
    "i. Considere que pesos em Kg dessas pessoas, na mesma ortem, estão na lista pesos ```lista_pesos = [70, 75, 80, 85]```. Crie um **ndarray** chamado ```pesos``` com a função ```np.array()``` que contenha esses valores.  \n",
    "ii. Utilizando o objeto que contém as alturas em metros e esse objeto que contém os respectivos pesos em quilos, calcule o IMC desses indivíduos utilizando a aritmética de arrays e guarde os resultados em um objeto chamado ```imc```."
   ]
  },
  {
   "cell_type": "markdown",
   "metadata": {},
   "source": [
    "IMC i"
   ]
  },
  {
   "cell_type": "code",
   "execution_count": 114,
   "metadata": {
    "id": "YL87C0It695p",
    "outputId": "f147f2f0-c5e8-407c-a708-914ddc99fa6d"
   },
   "outputs": [],
   "source": [
    "# i) Definir pesos\n",
    "lista_pesos = [70, 75, 80, 85]\n",
    "\n",
    "# Definir alturas\n",
    "lista_alturas = [1.70, 1.75, 1.80, 1.85]"
   ]
  },
  {
   "cell_type": "code",
   "execution_count": 116,
   "metadata": {},
   "outputs": [
    {
     "data": {
      "text/plain": [
       "array([70, 75, 80, 85])"
      ]
     },
     "execution_count": 116,
     "metadata": {},
     "output_type": "execute_result"
    }
   ],
   "source": [
    "# Criar arrays numpy \"pesos\"\n",
    "pesos = np.array(lista_pesos)\n",
    "pesos"
   ]
  },
  {
   "cell_type": "code",
   "execution_count": 118,
   "metadata": {
    "id": "WgZtY2Ox695q"
   },
   "outputs": [
    {
     "data": {
      "text/plain": [
       "array([1.7 , 1.75, 1.8 , 1.85])"
      ]
     },
     "execution_count": 118,
     "metadata": {},
     "output_type": "execute_result"
    }
   ],
   "source": [
    "# Criar arrays numpy \"alturas\"\n",
    "alturas = np.array(lista_alturas)\n",
    "alturas"
   ]
  },
  {
   "cell_type": "markdown",
   "metadata": {},
   "source": [
    "IMC ii"
   ]
  },
  {
   "cell_type": "code",
   "execution_count": 120,
   "metadata": {},
   "outputs": [
    {
     "data": {
      "text/plain": [
       "array([24.22145329, 24.48979592, 24.69135802, 24.83564646])"
      ]
     },
     "execution_count": 120,
     "metadata": {},
     "output_type": "execute_result"
    }
   ],
   "source": [
    "# ii) Calculando o IMC\n",
    "imc = pesos / (alturas ** 2)\n",
    "imc"
   ]
  },
  {
   "cell_type": "markdown",
   "metadata": {
    "id": "k1JIBxZb695r"
   },
   "source": [
    "### 3) Endividamento\n",
    "\n",
    "Cálculos de novas variáveis como endividamento total e comprometimento de renda são essenciais para a construção de modelos financeiros em ciência de dados. Áreas não financeiras terão cálculos semelhantes também. Vamos praticar:\n",
    "\n",
    "Considere que o seguinte ndarray contém os dados de 4 pessoas, total a ser pago a empréstimos mensalmente e renda familiar:\n",
    "\n",
    "| custo fixo | dívida financeira | renda familiar |\n",
    "|:----:|:----:|:---|\n",
    "| 3000  | 1000 | 6000 |\n",
    "| 2500  | 2500 | 5500 |\n",
    "| 1000  | 3000 | 7000 |\n",
    "| 10000 | 5000 | 16000 |\n",
    "\n",
    "i. Transforme a lista de listas ```dados_financeiros``` no ndarray ```nd_financeiros```.\n",
    "> ``` dados_financeiros[[3000, 2500, 1000, 10000],[1000, 2500, 3000, 5000],[6000, 5500, 7000, 16000]] ```\n",
    "\n",
    "ii. Utilize o método ```.transpose ``` e certifique-se de que esse ndarray tenha uma linha por indivíduo e uma coluna por informação. Utilizando a indexação do numpy, imprima no output a segunda linha do array, depois a segunda coluna.\n",
    "\n",
    "iii. Pratique aritmética com nearrays e calcule o endividamento total como:\n",
    "$$endividamento\\hspace{.2cm}total = \\frac{custo \\hspace{.2cm}fixo + dívida\\hspace{.2cm}financeira}{renda\\hspace{.2cm}familiar}$$\n",
    "Guarde os resultados em uma variável chamada ```endividamento_total``` e verifique os resultados imprimindo o conteúdo dessa variável no output.\n",
    "\n",
    "iv. Considere que há um erro de digitação que precisa ser corrigido: 3o indivíduo na verdade não possui renda familiar de R\\\\$7.000,00, mas sim R\\\\$ 10.000,00. Corrija esse valor e refaça os cálculos."
   ]
  },
  {
   "cell_type": "markdown",
   "metadata": {},
   "source": [
    "Endividamento 3-i"
   ]
  },
  {
   "cell_type": "code",
   "execution_count": 69,
   "metadata": {
    "id": "k17jw6kT695r"
   },
   "outputs": [
    {
     "data": {
      "text/plain": [
       "array([[ 3000,  2500,  1000, 10000],\n",
       "       [ 1000,  2500,  3000,  5000],\n",
       "       [ 6000,  5500,  7000, 16000]])"
      ]
     },
     "execution_count": 69,
     "metadata": {},
     "output_type": "execute_result"
    }
   ],
   "source": [
    "# 3-i) lista dados_financeiros\n",
    "dados_financeiros = [[3000, 2500, 1000, 10000],[1000, 2500, 3000, 5000],[6000, 5500, 7000, 16000]]\n",
    "dados_financeiros\n",
    "\n",
    "# transforme essa lista em um ndarray\n",
    "nd_financeiros = np.array(dados_financeiros)\n",
    "nd_financeiros"
   ]
  },
  {
   "cell_type": "markdown",
   "metadata": {},
   "source": [
    "Endividamento 3-ii"
   ]
  },
  {
   "cell_type": "code",
   "execution_count": 122,
   "metadata": {
    "id": "ecRsPjml695r"
   },
   "outputs": [
    {
     "name": "stdout",
     "output_type": "stream",
     "text": [
      "[[ 3000  1000  6000]\n",
      " [ 2500  2500  5500]\n",
      " [ 1000  3000  7000]\n",
      " [10000  5000 16000]]\n",
      "Segunda linha (segundo indivíduo): [2500 2500 5500]\n",
      "Segunda coluna (dívida financeira): [1000 2500 3000 5000]\n"
     ]
    }
   ],
   "source": [
    "# 3-ii) transposto o ndarray\n",
    "nd_financeiros_transposto = nd_financeiros.transpose()\n",
    "\n",
    "# Imprimindo o ndarray transposto\n",
    "print(nd_financeiros_transposto)\n",
    "\n",
    "# Imprimindo a segunda linha (dados do segundo indivíduo)\n",
    "print(\"Segunda linha (segundo indivíduo):\", nd_financeiros_transposto[1])\n",
    "\n",
    "# Imprimindo a segunda coluna (dívida financeira)\n",
    "print(\"Segunda coluna (dívida financeira):\", nd_financeiros_transposto[:, 1])"
   ]
  },
  {
   "cell_type": "markdown",
   "metadata": {},
   "source": [
    "Endividamento 3-iii"
   ]
  },
  {
   "cell_type": "code",
   "execution_count": 73,
   "metadata": {
    "id": "RgMG-t9-695s"
   },
   "outputs": [
    {
     "data": {
      "text/plain": [
       "array([ 4000,  5000,  4000, 15000])"
      ]
     },
     "execution_count": 73,
     "metadata": {},
     "output_type": "execute_result"
    }
   ],
   "source": [
    "# 3-iii) Calculando o endividamento total (soma das duas primeiras colunas)\n",
    "endividamento_total = nd_financeiros_transposto[:, 0:2].sum(axis=1)\n",
    "\n",
    "# Imprimindo o resultado\n",
    "endividamento_total"
   ]
  },
  {
   "cell_type": "code",
   "execution_count": 75,
   "metadata": {},
   "outputs": [],
   "source": [
    "# Calculando o endividamento total como proporção % da renda\n",
    "endividamento_total_proporcional = (nd_financeiros_transposto[:, 0:2].sum(axis=1)) / nd_financeiros_transposto[:, 2]"
   ]
  },
  {
   "cell_type": "code",
   "execution_count": 77,
   "metadata": {},
   "outputs": [
    {
     "name": "stdout",
     "output_type": "stream",
     "text": [
      "Indivíduo 1: 66.67% do total da renda\n",
      "Indivíduo 2: 90.91% do total da renda\n",
      "Indivíduo 3: 57.14% do total da renda\n",
      "Indivíduo 4: 93.75% do total da renda\n"
     ]
    }
   ],
   "source": [
    "# Imprimindo o resultado\n",
    "for i, valor in enumerate(endividamento_total_proporcional):\n",
    "    print(f\"Indivíduo {i+1}: {valor:.2%} do total da renda\")"
   ]
  },
  {
   "cell_type": "markdown",
   "metadata": {},
   "source": [
    "Endividamento 3-iv"
   ]
  },
  {
   "cell_type": "code",
   "execution_count": 81,
   "metadata": {
    "id": "OYxfd00O695t"
   },
   "outputs": [
    {
     "name": "stdout",
     "output_type": "stream",
     "text": [
      "Indivíduo 1: 66.67% do total da renda\n",
      "Indivíduo 2: 90.91% do total da renda\n",
      "Indivíduo 3: 40.00% do total da renda\n",
      "Indivíduo 4: 93.75% do total da renda\n"
     ]
    }
   ],
   "source": [
    "# 3-iv) corrigindo um valor específico, do terceiro indivíduo ( renda familiar de 7.000 para 10.000 )\n",
    "nd_financeiros_transposto = np.array([[3000, 1000, 6000],\n",
    "                                    [2500, 2500, 5500],\n",
    "                                    [1000, 3000, 10000],  # Corrigido para 10.000\n",
    "                                    [10000, 5000, 16000]])\n",
    "\n",
    "# Calculando o endividamento total como proporção % da renda\n",
    "endividamento_total_proporcional = (nd_financeiros_transposto[:, 0:2].sum(axis=1)) / nd_financeiros_transposto[:, 2]\n",
    "\n",
    "# Imprimindo o resultado \n",
    "for i, valor in enumerate(endividamento_total_proporcional):\n",
    "    print(f\"Indivíduo {i+1}: {valor:.2%} do total da renda\")"
   ]
  },
  {
   "cell_type": "markdown",
   "metadata": {
    "id": "RghMgSOX695t"
   },
   "source": [
    "### 4) É muito comum precisarmos identificar valores especiais e darmos tratamento a eles quer seja alterando-os quer seja descartando-os. \n",
    "\n",
    "O trecho de código abaixo gera um ndarray com números pseudo aleatórios. Considere que para efeitos do estudo que virá, devemos desconsiderar valores iguais a zero. Sendo assim:\n",
    "\n",
    "i) crie um objeto ```bool_zero``` que traga uma sequencia de booleanos do mesmo tamanho que o objeto poi, e que vale ```True``` quando o valor de ```poi``` é zero, e ```False``` caso contrário.\n",
    "\n",
    "ii) Conte quantos valores zero existem. Lembre-se de que no final das contas, ```True``` vale 1 para o Python, e ```False``` vale zero, então uma boa dica seria usar a função ```sum()```.\n",
    "\n",
    "iii) Utilize a indexação booleana que você aprendeu para criar uma variável ```poi_nao_zero``` que aponta para os elementos de ```poi``` diferentes de zero. Dica: você vai pode inverter os elementos do objeto que criou em *ii)* ou escrever a comparação adequada."
   ]
  },
  {
   "cell_type": "code",
   "execution_count": 83,
   "metadata": {
    "id": "Y6JUhNiT695t",
    "outputId": "06ceb3b7-5eb0-45d0-f3b3-ea6ff6f0df2a"
   },
   "outputs": [
    {
     "data": {
      "text/plain": [
       "array([3, 3, 6, 2, 4, 5, 4, 4, 2, 0, 3, 3, 2, 8, 2, 3, 3, 3, 0, 4, 4, 2,\n",
       "       6, 6, 0, 3, 4, 3, 5, 2, 1, 3, 2, 2, 3, 2, 4, 4, 5, 7, 3, 5, 3, 3,\n",
       "       2, 2, 3, 6, 2, 2, 4, 3, 5, 2, 5, 3, 0, 2, 1, 1, 4, 4, 4, 6, 2, 4,\n",
       "       1, 2, 5, 5, 3, 4, 1, 4, 1, 1, 7, 1, 2, 1, 3, 7, 0, 4, 4, 0, 6, 1,\n",
       "       3, 4, 2, 5, 4, 5, 5, 3, 4, 6, 8, 2])"
      ]
     },
     "execution_count": 83,
     "metadata": {},
     "output_type": "execute_result"
    }
   ],
   "source": [
    "# objeto poi - obs: o comando np.random.seed(1234) garante que o mesmo resultado será gerado sempre\n",
    "np.random.seed(1234)\n",
    "poi = np.random.poisson(3, 100)\n",
    "poi"
   ]
  },
  {
   "cell_type": "markdown",
   "metadata": {},
   "source": [
    "Exercício 4-i"
   ]
  },
  {
   "cell_type": "code",
   "execution_count": 97,
   "metadata": {
    "id": "dWElD2MJ695u"
   },
   "outputs": [
    {
     "name": "stdout",
     "output_type": "stream",
     "text": [
      "[3 3 6 2 4 5 4 4 2 0 3 3 2 8 2 3 3 3 0 4 4 2 6 6 0 3 4 3 5 2 1 3 2 2 3 2 4\n",
      " 4 5 7 3 5 3 3 2 2 3 6 2 2 4 3 5 2 5 3 0 2 1 1 4 4 4 6 2 4 1 2 5 5 3 4 1 4\n",
      " 1 1 7 1 2 1 3 7 0 4 4 0 6 1 3 4 2 5 4 5 5 3 4 6 8 2]\n",
      "[False False False False False False False False False  True False False\n",
      " False False False False False False  True False False False False False\n",
      "  True False False False False False False False False False False False\n",
      " False False False False False False False False False False False False\n",
      " False False False False False False False False  True False False False\n",
      " False False False False False False False False False False False False\n",
      " False False False False False False False False False False  True False\n",
      " False  True False False False False False False False False False False\n",
      " False False False False]\n"
     ]
    }
   ],
   "source": [
    "# i) Configurando a semente aleatória\n",
    "np.random.seed(1234)\n",
    "\n",
    "# Gerando o ndarray\n",
    "poi = np.random.poisson(3, 100)\n",
    "\n",
    "# Criando o array booleano para identificar zeros\n",
    "bool_zero = poi == 0\n",
    "\n",
    "# Imprimindo os resultados para verificação\n",
    "print(poi)\n",
    "print(bool_zero)"
   ]
  },
  {
   "cell_type": "markdown",
   "metadata": {},
   "source": [
    "Exercício 4-ii"
   ]
  },
  {
   "cell_type": "code",
   "execution_count": 91,
   "metadata": {
    "id": "hr-knXzs695u"
   },
   "outputs": [
    {
     "name": "stdout",
     "output_type": "stream",
     "text": [
      "Número de zeros: 6\n"
     ]
    }
   ],
   "source": [
    "# ii) Contando a qtde de zeros usando a função sum()\n",
    "num_zeros = bool_zero.sum()\n",
    "print(\"Número de zeros:\", num_zeros)"
   ]
  },
  {
   "cell_type": "markdown",
   "metadata": {},
   "source": [
    "Exercício 4-iii"
   ]
  },
  {
   "cell_type": "code",
   "execution_count": 105,
   "metadata": {
    "id": "5s3DqCup695u"
   },
   "outputs": [
    {
     "name": "stdout",
     "output_type": "stream",
     "text": [
      "Elementos não-zero: [3 3 6 2 4 5 4 4 2 3 3 2 8 2 3 3 3 4 4 2 6 6 3 4 3 5 2 1 3 2 2 3 2 4 4 5 7\n",
      " 3 5 3 3 2 2 3 6 2 2 4 3 5 2 5 3 2 1 1 4 4 4 6 2 4 1 2 5 5 3 4 1 4 1 1 7 1\n",
      " 2 1 3 7 4 4 6 1 3 4 2 5 4 5 5 3 4 6 8 2]\n"
     ]
    }
   ],
   "source": [
    "# iii) Criando um array booleano para identificar os NÃO zeros\n",
    "bool_nao_zero = ~bool_zero\n",
    "\n",
    "# Criando um novo array com os elementos não-zero\n",
    "poi_nao_zero = poi[bool_nao_zero]\n",
    "\n",
    "# Imprimindo resultado\n",
    "print(\"Elementos não-zero:\", poi_nao_zero)"
   ]
  }
 ],
 "metadata": {
  "colab": {
   "collapsed_sections": [],
   "provenance": []
  },
  "kernelspec": {
   "display_name": "Python 3 (ipykernel)",
   "language": "python",
   "name": "python3"
  },
  "language_info": {
   "codemirror_mode": {
    "name": "ipython",
    "version": 3
   },
   "file_extension": ".py",
   "mimetype": "text/x-python",
   "name": "python",
   "nbconvert_exporter": "python",
   "pygments_lexer": "ipython3",
   "version": "3.12.4"
  }
 },
 "nbformat": 4,
 "nbformat_minor": 4
}
